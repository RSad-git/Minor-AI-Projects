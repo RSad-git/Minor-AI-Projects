{
 "cells": [
  {
   "cell_type": "markdown",
   "id": "f6f0fa52",
   "metadata": {},
   "source": [
    "####SVM"
   ]
  },
  {
   "cell_type": "code",
   "execution_count": 1,
   "id": "bc76ad6a",
   "metadata": {},
   "outputs": [],
   "source": [
    "import os, codecs\n",
    "import numpy as np\n",
    "import sklearn\n",
    "from sklearn.metrics import confusion_matrix\n",
    "import pandas as pd"
   ]
  },
  {
   "cell_type": "code",
   "execution_count": 2,
   "id": "f68d6ebc",
   "metadata": {},
   "outputs": [
    {
     "name": "stdout",
     "output_type": "stream",
     "text": [
      "2051\n",
      "60000 28 28\n",
      "2049\n",
      "60000\n"
     ]
    }
   ],
   "source": [
    "datapath='C://Users//dfury//OneDrive//Documents//assignments//Spring22//AI//Project 3//Handwritten Digits Dataset//train-labels.idx1-ubyte'\n",
    "path='C://Users//dfury//OneDrive//Documents//assignments//Spring22//AI//Project 3//Handwritten Digits Dataset//train-images.idx3-ubyte'\n",
    "Acc=[]\n",
    "Accl=[]\n",
    "train={}\n",
    "test={}\n",
    "def con(b):\n",
    "    return int(codecs.encode(b, 'hex'),16)\n",
    "\n",
    "with open(path,'rb') as f:\n",
    "    data= f.read()\n",
    "    type= con(data[:4])\n",
    "    print(type)\n",
    "    l=con(data[4:8])\n",
    "    r=con(data[8:12])\n",
    "    c=con(data[12:16])\n",
    "    print(l,r,c)\n",
    "m=np.frombuffer(data,dtype=np.uint8,offset=16)\n",
    "m=m.reshape(l,r*c)\n",
    "\n",
    "\n",
    "train['images']=m\n",
    "    \n",
    "\n",
    "with open(datapath,'rb') as f:\n",
    "    datal= f.read()\n",
    "    type= con(datal[:4])\n",
    "    print(type)\n",
    "    lb=con(data[4:8])\n",
    "    print(lb)\n",
    "m=np.frombuffer(datal,dtype=np.uint8,offset=8)\n",
    "m=m.reshape(lb)\n",
    "train['labels']=m\n"
   ]
  },
  {
   "cell_type": "code",
   "execution_count": null,
   "id": "c4f9e656",
   "metadata": {},
   "outputs": [],
   "source": []
  },
  {
   "cell_type": "code",
   "execution_count": 3,
   "id": "5d1bb302",
   "metadata": {
    "scrolled": true
   },
   "outputs": [
    {
     "name": "stdout",
     "output_type": "stream",
     "text": [
      "(60000, 784)\n"
     ]
    }
   ],
   "source": [
    "print(train['images'].shape)"
   ]
  },
  {
   "cell_type": "code",
   "execution_count": 4,
   "id": "bd36ab04",
   "metadata": {},
   "outputs": [],
   "source": [
    "##training set\n",
    "x=train['images'][1000:1999]\n",
    "y=train['labels'][1000:1999]"
   ]
  },
  {
   "cell_type": "code",
   "execution_count": 5,
   "id": "e778bb34",
   "metadata": {},
   "outputs": [],
   "source": [
    "#test set\n",
    "tx=train['images'][3000:3099]\n",
    "ty=train['labels'][3000:3099]"
   ]
  },
  {
   "cell_type": "code",
   "execution_count": 6,
   "id": "4796a6b7",
   "metadata": {},
   "outputs": [
    {
     "data": {
      "text/plain": [
       "SVC(kernel='linear')"
      ]
     },
     "execution_count": 6,
     "metadata": {},
     "output_type": "execute_result"
    }
   ],
   "source": [
    "from sklearn import svm\n",
    "clf_svm=svm.SVC(kernel='linear')\n",
    "clf_svm.fit(x,y)"
   ]
  },
  {
   "cell_type": "code",
   "execution_count": 7,
   "id": "6104b279",
   "metadata": {},
   "outputs": [],
   "source": [
    "#storing predicted values\n",
    "p=clf_svm.predict(tx)"
   ]
  },
  {
   "cell_type": "code",
   "execution_count": 8,
   "id": "229b5f4b",
   "metadata": {},
   "outputs": [],
   "source": [
    "#Accuracy\n",
    "Acc.append(clf_svm.score(tx,ty))\n",
    "Accl.append('SVM 1000 training,100 testing')\n"
   ]
  },
  {
   "cell_type": "code",
   "execution_count": 9,
   "id": "420545fb",
   "metadata": {},
   "outputs": [
    {
     "name": "stdout",
     "output_type": "stream",
     "text": [
      "SVM 1000 training,100 testing Accuracy:0.8080808080808081\n"
     ]
    }
   ],
   "source": [
    "print(f'{Accl[0]} Accuracy:{Acc[0]}')"
   ]
  },
  {
   "cell_type": "markdown",
   "id": "51ad69c4",
   "metadata": {},
   "source": [
    "Part2"
   ]
  },
  {
   "cell_type": "code",
   "execution_count": 10,
   "id": "603aee72",
   "metadata": {},
   "outputs": [],
   "source": [
    "x2=train['images'][20000:29999]\n",
    "y2=train['labels'][20000:29999]\n",
    "tx2=train['images'][30000:30099]\n",
    "ty2=train['labels'][30000:30099]"
   ]
  },
  {
   "cell_type": "code",
   "execution_count": 11,
   "id": "2901dd57",
   "metadata": {},
   "outputs": [
    {
     "data": {
      "text/plain": [
       "SVC(kernel='linear')"
      ]
     },
     "execution_count": 11,
     "metadata": {},
     "output_type": "execute_result"
    }
   ],
   "source": [
    "clf_svm2=svm.SVC(kernel='linear')\n",
    "clf_svm2.fit(x2,y2)"
   ]
  },
  {
   "cell_type": "code",
   "execution_count": 12,
   "id": "a4e11694",
   "metadata": {},
   "outputs": [],
   "source": [
    "p2=clf_svm2.predict(tx2)\n",
    "Acc.append(clf_svm2.score(tx2,ty2))\n",
    "Accl.append('SVM 10000 training,100 testing')\n",
    "\n"
   ]
  },
  {
   "cell_type": "code",
   "execution_count": 13,
   "id": "e55fedb8",
   "metadata": {},
   "outputs": [
    {
     "name": "stdout",
     "output_type": "stream",
     "text": [
      "SVM 10000 training,100 testing Accuracy:0.8686868686868687\n"
     ]
    }
   ],
   "source": [
    "print(f'{Accl[1]} Accuracy:{Acc[1]}')"
   ]
  },
  {
   "cell_type": "markdown",
   "id": "9786ecc9",
   "metadata": {},
   "source": [
    "Part3"
   ]
  },
  {
   "cell_type": "code",
   "execution_count": 14,
   "id": "d9aef1b6",
   "metadata": {},
   "outputs": [
    {
     "data": {
      "text/plain": [
       "SVC(kernel='linear')"
      ]
     },
     "execution_count": 14,
     "metadata": {},
     "output_type": "execute_result"
    }
   ],
   "source": [
    "clf_svm3=svm.SVC(kernel='linear')\n",
    "clf_svm3.fit(x2,y2)"
   ]
  },
  {
   "cell_type": "code",
   "execution_count": 15,
   "id": "212a5030",
   "metadata": {},
   "outputs": [],
   "source": [
    "tx3=train['images'][30000:30999]\n",
    "ty3=train['labels'][30000:30999]"
   ]
  },
  {
   "cell_type": "code",
   "execution_count": 16,
   "id": "71ac63c1",
   "metadata": {},
   "outputs": [
    {
     "name": "stdout",
     "output_type": "stream",
     "text": [
      "SVM 10000 training,1000 testing Accuracy:0.8938938938938938\n"
     ]
    }
   ],
   "source": [
    "p3=clf_svm3.predict(tx3)\n",
    "Acc.append(clf_svm3.score(tx3,ty3))\n",
    "Accl.append('SVM 10000 training,1000 testing')\n",
    "print(f'{Accl[2]} Accuracy:{Acc[2]}')"
   ]
  },
  {
   "cell_type": "code",
   "execution_count": null,
   "id": "1eaf71b1",
   "metadata": {},
   "outputs": [],
   "source": []
  },
  {
   "cell_type": "markdown",
   "id": "81c7b418",
   "metadata": {},
   "source": [
    "Part4 Confusion Matrix"
   ]
  },
  {
   "cell_type": "code",
   "execution_count": 17,
   "id": "7e63a599",
   "metadata": {},
   "outputs": [
    {
     "name": "stdout",
     "output_type": "stream",
     "text": [
      "Confusion Matrix for Part 1\n",
      "\n",
      "   0  1  2  3   4  5   6  7   8  9\n",
      "0  8  0  0  0   0  0   1  0   0  0\n",
      "1  0  6  0  0   0  1   0  0   0  0\n",
      "2  0  0  8  0   0  0   0  0   0  0\n",
      "3  0  0  0  7   0  1   0  0   1  0\n",
      "4  0  0  0  1  11  0   0  0   0  2\n",
      "5  0  0  0  1   0  4   0  0   0  0\n",
      "6  0  0  0  0   0  0  10  0   0  0\n",
      "7  0  1  0  0   0  0   0  7   0  0\n",
      "8  0  0  0  3   1  0   0  0  10  2\n",
      "9  0  0  0  0   1  1   0  1   1  9\n",
      "\n",
      " Confusion Matrix for Part 2\n",
      "\n",
      "   0  1   2   3  4  5   6  7  8  9\n",
      "0  9  0   0   0  0  0   1  0  1  0\n",
      "1  0  8   0   1  0  0   0  0  0  0\n",
      "2  0  0  12   0  0  0   0  0  0  0\n",
      "3  0  1   0  11  1  1   0  0  0  0\n",
      "4  0  0   0   0  8  0   0  0  0  0\n",
      "5  0  0   0   1  1  8   0  0  0  0\n",
      "6  0  0   0   0  0  0  10  0  0  0\n",
      "7  0  0   0   0  0  0   0  6  0  2\n",
      "8  0  0   0   0  0  0   0  0  9  0\n",
      "9  0  0   0   0  0  1   0  0  2  5\n",
      "\n",
      " Confusion Matrix for Part 3\n",
      "\n",
      "    0    1   2   3   4   5   6   7   8   9\n",
      "0  94    0   0   0   1   3   1   0   1   0\n",
      "1   0  111   0   1   0   0   0   0   2   0\n",
      "2   0    2  93   1   0   1   0   1   4   0\n",
      "3   0    1   4  83   2   5   1   0   2   2\n",
      "4   0    0   0   0  89   0   0   1   0   4\n",
      "5   0    1   1   6   2  60   1   0   4   0\n",
      "6   0    1   2   0   1   2  98   0   0   0\n",
      "7   0    1   2   0   1   2   0  99   0   4\n",
      "8   0    4   3   4   4   2   0   1  78   1\n",
      "9   1    1   1   3   1   3   0   4   2  88\n"
     ]
    }
   ],
   "source": [
    "cm=confusion_matrix(ty,p)\n",
    "df_cm=pd.DataFrame(cm)\n",
    "print(\"Confusion Matrix for Part 1\\n\")\n",
    "print(df_cm)\n",
    "\n",
    "cm=confusion_matrix(ty2,p2)\n",
    "df_cm=pd.DataFrame(cm)\n",
    "print(\"\\n Confusion Matrix for Part 2\\n\")\n",
    "print(df_cm)\n",
    "\n",
    "cm=confusion_matrix(ty3,p3)\n",
    "df_cm=pd.DataFrame(cm)\n",
    "print(\"\\n Confusion Matrix for Part 3\\n\")\n",
    "print(df_cm)"
   ]
  },
  {
   "cell_type": "markdown",
   "id": "5ebd989e",
   "metadata": {},
   "source": [
    "Part 5"
   ]
  },
  {
   "cell_type": "code",
   "execution_count": 18,
   "id": "ab447125",
   "metadata": {},
   "outputs": [
    {
     "name": "stdout",
     "output_type": "stream",
     "text": [
      "SVM using rbf kernel Accuracy:0.9529529529529529\n"
     ]
    }
   ],
   "source": [
    "clf_svm3rbf=svm.SVC(kernel='rbf')\n",
    "clf_svm3rbf.fit(x2,y2)\n",
    "pr=clf_svm3rbf.predict(tx3)\n",
    "Acc.append(clf_svm3rbf.score(tx3,ty3))\n",
    "Accl.append('SVM using rbf kernel')\n",
    "print(f'{Accl[3]} Accuracy:{Acc[3]}')\n"
   ]
  },
  {
   "cell_type": "code",
   "execution_count": 19,
   "id": "c5424599",
   "metadata": {},
   "outputs": [
    {
     "name": "stdout",
     "output_type": "stream",
     "text": [
      "SVM using polynomial kernel Accuracy:0.934934934934935\n"
     ]
    }
   ],
   "source": [
    "clf_svm3p=svm.SVC(kernel='poly')\n",
    "clf_svm3p.fit(x2,y2)\n",
    "pp=clf_svm3p.predict(tx3)\n",
    "Acc.append(clf_svm3p.score(tx3,ty3))\n",
    "Accl.append('SVM using polynomial kernel')\n",
    "print(f'{Accl[4]} Accuracy:{Acc[4]}')\n"
   ]
  },
  {
   "cell_type": "code",
   "execution_count": 20,
   "id": "6a210252",
   "metadata": {},
   "outputs": [
    {
     "name": "stdout",
     "output_type": "stream",
     "text": [
      "SVM using sigmoid kernel Accuracy:0.7997997997997998\n"
     ]
    }
   ],
   "source": [
    "clf_svm3s=svm.SVC(kernel='sigmoid')\n",
    "clf_svm3s.fit(x2,y2)\n",
    "ps=clf_svm3s.predict(tx3)\n",
    "Acc.append(clf_svm3s.score(tx3,ty3))\n",
    "Accl.append('SVM using sigmoid kernel')\n",
    "print(f'{Accl[5]} Accuracy:{Acc[5]}')"
   ]
  },
  {
   "cell_type": "markdown",
   "id": "51ff4036",
   "metadata": {},
   "source": [
    "Part 6"
   ]
  },
  {
   "cell_type": "code",
   "execution_count": 21,
   "id": "71f0c9b2",
   "metadata": {},
   "outputs": [
    {
     "name": "stdout",
     "output_type": "stream",
     "text": [
      "[  0   0   0   0   0   0   0   0   0   0   0   0   0   0   0   0   0   0\n",
      "   0   0   0   0   0   0   0   0   0   0   0   0   0   0   0   0   0   0\n",
      "   0   0   0   0   0   0   0   0   0   0   0   0   0   0   0   0   0   0\n",
      "   0   0   0   0   0   0   0   0   0   0   0   0   0   0   0   0   0   0\n",
      "   0   0   0   0   0   0   0   0   0   0   0   0   0   0   0   0   0   0\n",
      "   0   0   0   0   0   0   0   0   0   0   0   0   0   0   0   0   0   0\n",
      "   0   0   0   0   0   0   0   0   0   0   0   0   0   0   0   0   0   0\n",
      "   0   0   0   0   0   0   0   0   0   0   0   0   0   0   0   0   0   0\n",
      "   0   0   0   0   0   0   0   0   0   0   0   0   0   0   0   0   0   0\n",
      "   0   0   0   0   0   0   0   0   0   0   0   0   0 255 255 255 255 255\n",
      " 255   0   0   0   0   0   0   0   0   0   0   0   0   0   0   0   0   0\n",
      "   0   0   0   0   0 255 255 255 255 255 255 255 255   0   0   0   0   0\n",
      "   0   0   0   0   0   0   0   0   0   0   0   0   0   0 255 255 255 255\n",
      " 255 255 255 255 255 255   0   0   0   0   0   0   0   0   0   0   0   0\n",
      "   0   0   0   0   0   0 255 255 255 255 255   0 255 255 255 255 255 255\n",
      "   0   0   0   0   0   0   0   0   0   0   0   0   0   0   0 255 255 255\n",
      " 255 255   0   0   0   0 255 255 255 255 255   0   0   0   0   0   0   0\n",
      "   0   0   0   0   0   0   0 255 255 255 255 255   0   0   0   0 255 255\n",
      " 255 255 255   0   0   0   0   0   0   0   0   0   0   0   0   0   0   0\n",
      " 255 255 255 255   0   0   0   0   0 255 255 255 255 255   0   0   0   0\n",
      "   0   0   0   0   0   0   0   0   0   0 255 255 255 255   0   0   0   0\n",
      " 255 255 255 255 255 255   0   0   0   0   0   0   0   0   0   0   0   0\n",
      "   0   0 255 255 255 255 255   0   0   0 255 255 255 255 255 255   0   0\n",
      "   0   0   0   0   0   0   0   0   0   0   0   0 255 255 255 255 255 255\n",
      " 255 255 255 255 255 255 255 255   0   0   0   0   0   0   0   0   0   0\n",
      "   0   0   0   0   0 255 255 255 255 255 255 255 255 255 255 255 255 255\n",
      " 255   0   0   0   0   0   0   0   0   0   0   0   0   0   0   0   0 255\n",
      " 255 255 255 255 255 255   0 255 255 255 255   0   0   0   0   0   0   0\n",
      "   0   0   0   0   0   0   0   0   0   0   0 255 255 255   0   0   0 255\n",
      " 255 255 255   0   0   0   0   0   0   0   0   0   0   0   0   0   0   0\n",
      "   0   0   0   0   0   0   0   0   0 255 255 255 255   0   0   0   0   0\n",
      "   0   0   0   0   0   0   0   0   0   0   0   0   0   0   0   0   0   0\n",
      "   0 255 255 255 255   0   0   0   0   0   0   0   0   0   0   0   0   0\n",
      "   0   0   0   0   0   0   0   0   0   0   0 255 255 255 255 255   0   0\n",
      "   0   0   0   0   0   0   0   0   0   0   0   0   0   0   0   0   0   0\n",
      "   0   0   0   0 255 255 255 255   0   0   0   0   0   0   0   0   0   0\n",
      "   0   0   0   0   0   0   0   0   0   0   0   0   0   0 255 255 255 255\n",
      "   0   0   0   0   0   0   0   0   0   0   0   0   0   0   0   0   0   0\n",
      "   0   0   0   0   0   0 255 255 255 255   0   0   0   0   0   0   0   0\n",
      "   0   0   0   0   0   0   0   0   0   0   0   0   0   0   0   0 255 255\n",
      " 255 255   0   0   0   0   0   0   0   0   0   0   0   0   0   0   0   0\n",
      "   0   0   0   0   0   0   0   0   0   0   0   0   0   0   0   0   0   0\n",
      "   0   0   0   0   0   0   0   0   0   0   0   0   0   0   0   0   0   0\n",
      "   0   0   0   0   0   0   0   0   0   0]\n"
     ]
    }
   ],
   "source": [
    "th=5\n",
    "tax=(x2>th)*255\n",
    "print(tax[1])"
   ]
  },
  {
   "cell_type": "code",
   "execution_count": 22,
   "id": "b5c12269",
   "metadata": {},
   "outputs": [],
   "source": [
    "tax3=(tx3>th)*255"
   ]
  },
  {
   "cell_type": "code",
   "execution_count": 23,
   "id": "b2af0c60",
   "metadata": {},
   "outputs": [
    {
     "name": "stdout",
     "output_type": "stream",
     "text": [
      "SVM on thresholded binary image Accuracy:0.8938938938938938\n"
     ]
    }
   ],
   "source": [
    "clf_svmb=svm.SVC(kernel='linear')\n",
    "clf_svmb.fit(tax,y2)\n",
    "p3b=clf_svmb.predict(tax3)\n",
    "Acc.append(clf_svmb.score(tax3,ty3))\n",
    "Accl.append('SVM on thresholded binary image')\n",
    "print(f'{Accl[-1]} Accuracy:{Acc[-1]}')"
   ]
  },
  {
   "cell_type": "code",
   "execution_count": 24,
   "id": "6711eb4d",
   "metadata": {},
   "outputs": [
    {
     "data": {
      "text/html": [
       "<div>\n",
       "<style scoped>\n",
       "    .dataframe tbody tr th:only-of-type {\n",
       "        vertical-align: middle;\n",
       "    }\n",
       "\n",
       "    .dataframe tbody tr th {\n",
       "        vertical-align: top;\n",
       "    }\n",
       "\n",
       "    .dataframe thead th {\n",
       "        text-align: right;\n",
       "    }\n",
       "</style>\n",
       "<table border=\"1\" class=\"dataframe\">\n",
       "  <thead>\n",
       "    <tr style=\"text-align: right;\">\n",
       "      <th></th>\n",
       "      <th>Method</th>\n",
       "      <th>Accuracy</th>\n",
       "    </tr>\n",
       "  </thead>\n",
       "  <tbody>\n",
       "    <tr>\n",
       "      <th>Part1</th>\n",
       "      <td>SVM 1000 training,100 testing</td>\n",
       "      <td>0.808081</td>\n",
       "    </tr>\n",
       "    <tr>\n",
       "      <th>Part2</th>\n",
       "      <td>SVM 10000 training,100 testing</td>\n",
       "      <td>0.868687</td>\n",
       "    </tr>\n",
       "    <tr>\n",
       "      <th>Part3</th>\n",
       "      <td>SVM 10000 training,1000 testing</td>\n",
       "      <td>0.893894</td>\n",
       "    </tr>\n",
       "    <tr>\n",
       "      <th>Part5_rbf</th>\n",
       "      <td>SVM using rbf kernel</td>\n",
       "      <td>0.952953</td>\n",
       "    </tr>\n",
       "    <tr>\n",
       "      <th>Part5_poly</th>\n",
       "      <td>SVM using polynomial kernel</td>\n",
       "      <td>0.934935</td>\n",
       "    </tr>\n",
       "    <tr>\n",
       "      <th>Part5_sigmoid</th>\n",
       "      <td>SVM using sigmoid kernel</td>\n",
       "      <td>0.799800</td>\n",
       "    </tr>\n",
       "    <tr>\n",
       "      <th>Part6</th>\n",
       "      <td>SVM on thresholded binary image</td>\n",
       "      <td>0.893894</td>\n",
       "    </tr>\n",
       "  </tbody>\n",
       "</table>\n",
       "</div>"
      ],
      "text/plain": [
       "                                        Method  Accuracy\n",
       "Part1            SVM 1000 training,100 testing  0.808081\n",
       "Part2           SVM 10000 training,100 testing  0.868687\n",
       "Part3          SVM 10000 training,1000 testing  0.893894\n",
       "Part5_rbf                 SVM using rbf kernel  0.952953\n",
       "Part5_poly         SVM using polynomial kernel  0.934935\n",
       "Part5_sigmoid         SVM using sigmoid kernel  0.799800\n",
       "Part6          SVM on thresholded binary image  0.893894"
      ]
     },
     "execution_count": 24,
     "metadata": {},
     "output_type": "execute_result"
    }
   ],
   "source": [
    "dfc=pd.DataFrame(\n",
    "    {\n",
    "        \"Method\": Accl,\n",
    "        \"Accuracy\":Acc\n",
    "},index=['Part1','Part2','Part3','Part5_rbf','Part5_poly','Part5_sigmoid','Part6'])\n",
    "dfc"
   ]
  },
  {
   "cell_type": "code",
   "execution_count": null,
   "id": "30eb4499",
   "metadata": {},
   "outputs": [],
   "source": []
  }
 ],
 "metadata": {
  "kernelspec": {
   "display_name": "Python 3",
   "language": "python",
   "name": "python3"
  },
  "language_info": {
   "codemirror_mode": {
    "name": "ipython",
    "version": 3
   },
   "file_extension": ".py",
   "mimetype": "text/x-python",
   "name": "python",
   "nbconvert_exporter": "python",
   "pygments_lexer": "ipython3",
   "version": "3.8.8"
  }
 },
 "nbformat": 4,
 "nbformat_minor": 5
}
